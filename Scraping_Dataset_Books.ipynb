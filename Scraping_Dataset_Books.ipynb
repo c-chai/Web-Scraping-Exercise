{
 "cells": [
  {
   "cell_type": "markdown",
   "metadata": {},
   "source": [
    "# Scraping Dataset of Books"
   ]
  },
  {
   "cell_type": "markdown",
   "metadata": {},
   "source": [
    "### Self-guided project in courtesy of https://jovian.com/aakashns/python-web-scraping-project-guide"
   ]
  },
  {
   "cell_type": "markdown",
   "metadata": {},
   "source": [
    "#### Project Outline:\n",
    "- We are going to scrape https://books.toscrape.com/index.html\n",
    "- We will get a list of books organized by their title\n",
    "- For each book, we will grab rating and price\n",
    "- For the list of books, we will create a CSV file in the following format: \n",
    "```\n",
    "Book Title,Rating,Price\n",
    "```"
   ]
  },
  {
   "cell_type": "code",
   "execution_count": 9,
   "metadata": {},
   "outputs": [],
   "source": [
    "import requests\n",
    "from bs4 import BeautifulSoup\n",
    "import csv"
   ]
  },
  {
   "cell_type": "code",
   "execution_count": 10,
   "metadata": {},
   "outputs": [],
   "source": [
    "# Set the User-Agent in headers to mimic a web browser\n",
    "headers = {\n",
    "    \"User-Agent\": \"Mozilla/5.0 (Windows NT 10.0; Win64; x64) AppleWebKit/537.36 (KHTML, like Gecko) Chrome/91.0.4472.124 Safari/537.36\"\n",
    "}"
   ]
  },
  {
   "cell_type": "code",
   "execution_count": 11,
   "metadata": {},
   "outputs": [],
   "source": [
    "# Specify the CSV file path\n",
    "csv_file_path = \"book_data.csv\""
   ]
  },
  {
   "cell_type": "code",
   "execution_count": 12,
   "metadata": {},
   "outputs": [],
   "source": [
    "# Create functions to extract information from article tags\n",
    "def name_func(tag):\n",
    "    name = tag.find('h3').a['title']\n",
    "    return name\n",
    "\n",
    "def rating_func(tag):\n",
    "    rating = tag.find('p')['class'][1]\n",
    "    return rating\n",
    "\n",
    "def price_func(tag):\n",
    "    price = tag.find('p', class_='price_color').text[2:]\n",
    "    return price\n"
   ]
  },
  {
   "cell_type": "code",
   "execution_count": 13,
   "metadata": {},
   "outputs": [
    {
     "name": "stdout",
     "output_type": "stream",
     "text": [
      "Book data has been saved to 'book_data.csv'.\n"
     ]
    }
   ],
   "source": [
    "# Open the CSV file in write mode\n",
    "with open(csv_file_path, mode=\"w\", newline=\"\", encoding=\"utf-8-sig\") as csv_file:\n",
    "    writer = csv.writer(csv_file)\n",
    "\n",
    "# Write the header \n",
    "    writer.writerow([\"Title\", \"Rating\", \"Price\"])\n",
    "\n",
    "# Initialize the page number \n",
    "    page_number = 1\n",
    "\n",
    "# Continue looping while the page number is <= 50\n",
    "    while page_number <= 50:\n",
    "        \n",
    "# Send a request to the website for the current page\n",
    "        page_url = f\"https://books.toscrape.com/catalogue/page-{page_number}.html\"\n",
    "        source = requests.get(page_url, headers=headers).text\n",
    "        soup = BeautifulSoup(source, \"html.parser\")\n",
    "\n",
    "# Find all the book information on the current page\n",
    "        all_article_tags = soup.find_all('article', class_='product_pod')\n",
    "        for tag in all_article_tags:\n",
    "            # Extract information using functions\n",
    "            title = name_func(tag)\n",
    "            rating = rating_func(tag)\n",
    "            price = price_func(tag)\n",
    "\n",
    "            # Write the data to the CSV file\n",
    "            writer.writerow([title.encode('utf-8').decode('utf-8'), rating, price])\n",
    "\n",
    "        # Increment the page number for the next iteration\n",
    "        page_number += 1\n",
    "\n",
    "print(f\"Book data has been saved to '{csv_file_path}'.\")\n"
   ]
  }
 ],
 "metadata": {
  "kernelspec": {
   "display_name": ".venv",
   "language": "python",
   "name": "python3"
  },
  "language_info": {
   "codemirror_mode": {
    "name": "ipython",
    "version": 3
   },
   "file_extension": ".py",
   "mimetype": "text/x-python",
   "name": "python",
   "nbconvert_exporter": "python",
   "pygments_lexer": "ipython3",
   "version": "3.12.1"
  }
 },
 "nbformat": 4,
 "nbformat_minor": 2
}
